{
 "cells": [
  {
   "cell_type": "markdown",
   "metadata": {},
   "source": [
    "# Capstone Project - The Battle of Neighborhoods\n",
    "\n",
    "*(Week 1 - Introduction Section)*\n",
    "\n",
    "**Xian Li**\n",
    "\n",
    "*11-04-2019*\n",
    "\n",
    "\n"
   ]
  },
  {
   "cell_type": "markdown",
   "metadata": {},
   "source": [
    "## 1. Introduction\n",
    "\n",
    "In this section, I will introduce the business problem that I would like to focus on in this final project, and give out my initial plan. \n",
    "\n",
    "### 1.1 Background\n",
    "Here is the brief background. One of my Chinese friends, who is called ZZ, wants to open a Chinese restaurant in Houghton, MI where he and his family plan to live within. He knows me learning the data science these days. One day, he asked me about suggestions of the restaurant's location based on the data-driven evidence. Since I need to finish a similar project on Coursera. An idea comes up to me. Why can't I just combine those two things together?\n",
    "\n",
    "### 1.2. Business Problem\n",
    "\n",
    "So, here is my topic for this final project - **based on the segmentation and clustering of Foursquare location, give my recommendation to my friend about the new Chinese restaurant's location in Houghton, MI**. \n",
    "\n",
    "My initial plan to do this project is:\n",
    "\n",
    "- Find the geographical locations of the restaurants in Houghton, MI based on Foursquare location data;\n",
    "- Segment and cluster all resturants in Houghton, MI based on previous location data;\n",
    "- Find out the recommendation for the new Chinese restaurant based on previous results.\n",
    "\n",
    "### 1.3. Target Audience of this Project\n",
    "\n",
    "The target audience of this project will be those people who want to open restaurants in a new city. With the segmentation and clustering methods in this project, people will be easily to find the location where most restaruants are in a new city. All they need is change the geographical data and location data from Houghton, MI to the target city they prefer. "
   ]
  },
  {
   "cell_type": "code",
   "execution_count": null,
   "metadata": {},
   "outputs": [],
   "source": []
  }
 ],
 "metadata": {
  "kernelspec": {
   "display_name": "Python 3",
   "language": "python",
   "name": "python3"
  },
  "language_info": {
   "codemirror_mode": {
    "name": "ipython",
    "version": 3
   },
   "file_extension": ".py",
   "mimetype": "text/x-python",
   "name": "python",
   "nbconvert_exporter": "python",
   "pygments_lexer": "ipython3",
   "version": "3.7.4"
  }
 },
 "nbformat": 4,
 "nbformat_minor": 4
}
