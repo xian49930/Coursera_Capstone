{
 "cells": [
  {
   "cell_type": "markdown",
   "metadata": {},
   "source": [
    "# Capstone Project - The Battle of Neighborhoods\n",
    "\n",
    "*(Week 1 - Data Section)*\n",
    "\n",
    "**Xian Li**\n",
    "\n",
    "*11-04-2019*\n",
    "\n",
    "\n"
   ]
  },
  {
   "cell_type": "markdown",
   "metadata": {},
   "source": [
    "## 2. Data\n",
    "\n",
    "In this section, I will briefly describe the data that I need and how do I analyze.\n",
    "\n",
    "### 2.1 Data Description\n",
    "\n",
    "The data I need for this final project include but not limited to:\n",
    "\n",
    "- the geographical locations of all the restaurants in Houghton, MI.\n",
    "- the neighborhoods data of Houghton from the Foursquare location data.\n",
    "\n",
    "\n",
    "Here are the methods that how I apply the previous listed data into the project:\n",
    "\n",
    "- After getting the locations of all the restaurants, I can apply the segmentation and clustering methods on the data and obtain the main locations that where restaurants in Houghton focus in. \n",
    "- After getting the neighborhoods data of Houghton, with combining the location data I previously obtained, I can find out the major neighbothoods in Houghton that resturants locate. \n",
    "\n",
    "### 2.2 Example\n",
    "\n",
    "- the list of existing and historical (if possible) Chinese restaurants in Houghton, MI.\n",
    "- After getting the present and historical location data of Chinese restaurants in Houghton, I can give out the suggestion about the locations that my friend's new Chinese restaurant should be. (People like to drive to the similar/close places to get the services that they familar with. - less info burden?!)\n"
   ]
  },
  {
   "cell_type": "code",
   "execution_count": null,
   "metadata": {},
   "outputs": [],
   "source": []
  }
 ],
 "metadata": {
  "kernelspec": {
   "display_name": "Python 3",
   "language": "python",
   "name": "python3"
  },
  "language_info": {
   "codemirror_mode": {
    "name": "ipython",
    "version": 3
   },
   "file_extension": ".py",
   "mimetype": "text/x-python",
   "name": "python",
   "nbconvert_exporter": "python",
   "pygments_lexer": "ipython3",
   "version": "3.7.4"
  }
 },
 "nbformat": 4,
 "nbformat_minor": 4
}
