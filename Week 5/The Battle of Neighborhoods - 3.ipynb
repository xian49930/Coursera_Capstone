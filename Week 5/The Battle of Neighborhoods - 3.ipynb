{
 "cells": [
  {
   "cell_type": "markdown",
   "metadata": {},
   "source": [
    "# Capstone Project - The Battle of Neighborhoods\n",
    "\n",
    "### Applied Data Science Capstone by IBM/Coursera\n",
    "\n",
    "*(Week 2 - Notebook Report)*\n",
    "\n",
    "**Xian Li**\n",
    "\n",
    "*11-17-2019*"
   ]
  },
  {
   "cell_type": "markdown",
   "metadata": {},
   "source": [
    "## Table of contents\n"
   ]
  },
  {
   "cell_type": "markdown",
   "metadata": {},
   "source": [
    "\n",
    "\n",
    "## Introduction <a name=\"introduction\"></a>"
   ]
  },
  {
   "cell_type": "markdown",
   "metadata": {},
   "source": [
    "In this project we will try to find an optimal location for a restaurant. Specifically, this report will be targeted to my friend who interested in opening an **Chinese restaurant** in **Houghton, Michigan**.\n",
    "\n",
    "Since there are lots of restaurants in Houghton we will try to detect **locations that are not already crowded with restaurants**. We are also particularly interested in **areas with no Chinese restaurants in vicinity**. We would also prefer locations **as close to city center as possible**, assuming that first two conditions are met.\n",
    "\n",
    "We will use our data science powers to generate a few most promissing neighborhoods based on this criteria. Advantages of each area will then be clearly expressed so that best possible final location can be chosen by my friend."
   ]
  },
  {
   "cell_type": "markdown",
   "metadata": {},
   "source": [
    "### 1.1 Background\n",
    "Here is the brief background. One of my Chinese friends, who is called ZZ, wants to open a Chinese restaurant in Houghton, MI where he and his family plan to live within. He knows me learning the data science these days. One day, he asked me about suggestions of the restaurant's location based on the data-driven evidence. Since I need to finish a similar project on Coursera. An idea comes up to me. Why can't I just combine those two things together?\n",
    "\n",
    "### 1.2. Business Problem\n",
    "\n",
    "So, here is my topic for this final project - **based on the segmentation and clustering of Foursquare location, give my recommendation to my friend about the new Chinese restaurant's location in Houghton, MI**. \n",
    "\n",
    "My initial plan to do this project is:\n",
    "\n",
    "- Find the geographical locations of the restaurants in Houghton, MI based on Foursquare location data;\n",
    "- Segment and cluster all resturants in Houghton, MI based on previous location data;\n",
    "- Find out the recommendation for the new Chinese restaurant based on previous results.\n",
    "\n",
    "### 1.3. Target Audience of this Project\n",
    "\n",
    "The target audience of this project will be those people who want to open restaurants in a new city. With the segmentation and clustering methods in this project, people will be easily to find the location where most restaruants are in a new city. All they need is change the geographical data and location data from Houghton, MI to the target city they prefer. "
   ]
  },
  {
   "cell_type": "markdown",
   "metadata": {},
   "source": [
    "\n",
    "\n",
    "## Data <a name=\"data\"></a>"
   ]
  },
  {
   "cell_type": "markdown",
   "metadata": {},
   "source": [
    "In this section, I will briefly describe the data that I need and how do I analyze.\n",
    "\n",
    "### 2.1 Data Description\n",
    "\n",
    "The data I need for this final project include but not limited to:\n",
    "\n",
    "- the geographical locations of all the restaurants in Houghton, MI.\n",
    "- the neighborhoods data of Houghton from the Foursquare location data.\n",
    "\n",
    "\n",
    "Here are the methods that how I apply the previous listed data into the project:\n",
    "\n",
    "- After getting the locations of all the restaurants, I can apply the segmentation and clustering methods on the data and obtain the main locations that where restaurants in Houghton focus in. \n",
    "- After getting the neighborhoods data of Houghton, with combining the location data I previously obtained, I can find out the major neighbothoods in Houghton that resturants locate. \n",
    "\n",
    "### 2.2 Example for the Possible Improvement\n",
    "\n",
    "More data I may needed to improve the suggestion:\n",
    "\n",
    "- the list of existing and historical (if possible) Chinese restaurants in Houghton, MI.\n",
    "\n",
    "Reason why I need this type of data:\n",
    "\n",
    "- After getting the present and historical location data of Chinese restaurants in Houghton, I can give out the suggestion about the locations that my friend's new Chinese restaurant should be. (People like to drive to the similar/close places to get the services that they familar with. - less info burden?!)\n"
   ]
  },
  {
   "cell_type": "markdown",
   "metadata": {},
   "source": [
    "### Neighborhood Candidates\n",
    "\n",
    "Let's create latitude & longitude coordinates for centroids of our candidate neighborhoods. We will create a grid of cells covering our area of interest which is aprox. 12x12 killometers centered around Berlin city center.\n",
    "\n",
    "Let's first find the latitude & longitude of Berlin city center, using specific, well known address and Google Maps geocoding API."
   ]
  },
  {
   "cell_type": "code",
   "execution_count": null,
   "metadata": {},
   "outputs": [],
   "source": []
  },
  {
   "cell_type": "code",
   "execution_count": null,
   "metadata": {},
   "outputs": [],
   "source": []
  }
 ],
 "metadata": {
  "kernelspec": {
   "display_name": "Python 3",
   "language": "python",
   "name": "python3"
  },
  "language_info": {
   "codemirror_mode": {
    "name": "ipython",
    "version": 3
   },
   "file_extension": ".py",
   "mimetype": "text/x-python",
   "name": "python",
   "nbconvert_exporter": "python",
   "pygments_lexer": "ipython3",
   "version": "3.7.4"
  }
 },
 "nbformat": 4,
 "nbformat_minor": 4
}
